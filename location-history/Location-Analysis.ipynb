{
 "cells": [
  {
   "cell_type": "markdown",
   "metadata": {},
   "source": [
    "Some Visuasization based on location history\n",
    "========\n",
    "\n",
    "Check it out https://accounts.google.com/ServiceLogin?service=backup to download your location history archive as a .geojson file  \n",
    "This notebook is partially based on http://beneathdata.com/how-to/visualizing-my-location-history/ work"
   ]
  },
  {
   "cell_type": "code",
   "execution_count": 3,
   "metadata": {
    "collapsed": false,
    "deletable": true,
    "editable": true
   },
   "outputs": [
    {
     "data": {
      "text/plain": [
       "'/Users/pedrohserrano/data-visualization/location-history'"
      ]
     },
     "execution_count": 3,
     "metadata": {},
     "output_type": "execute_result"
    }
   ],
   "source": [
    "import os\n",
    "os.getcwd()"
   ]
  },
  {
   "cell_type": "code",
   "execution_count": 4,
   "metadata": {
    "collapsed": false,
    "deletable": true,
    "editable": true
   },
   "outputs": [],
   "source": [
    "import numpy as np\n",
    "import pandas as pd\n",
    "import json\n",
    "import datetime\n",
    "import mpl_toolkits\n",
    "from mpl_toolkits.basemap import Basemap\n",
    "from shapely.geometry import Point, Polygon, MultiPoint, MultiPolygon\n",
    "from shapely.prepared import prep\n",
    "import fiona\n",
    "from descartes import PolygonPatch\n",
    "from matplotlib.collections import PatchCollection\n",
    "import matplotlib.pyplot as plt\n",
    "%matplotlib inline"
   ]
  },
  {
   "cell_type": "code",
   "execution_count": 5,
   "metadata": {
    "collapsed": false,
    "deletable": true,
    "editable": true
   },
   "outputs": [],
   "source": [
    "with open('/Users/pedrohserrano/google-takeout/Ubicaciones/Historialdeubicaciones.json', 'r') as fh:\n",
    "    raw = json.loads(fh.read())"
   ]
  },
  {
   "cell_type": "code",
   "execution_count": 6,
   "metadata": {
    "collapsed": true,
    "deletable": true,
    "editable": true
   },
   "outputs": [],
   "source": [
    "ld = pd.DataFrame(raw['locations'])\n",
    "del raw #free up some memory\n",
    "# convert to typical units\n",
    "ld['latitudeE7'] = ld['latitudeE7']/float(1e7) \n",
    "ld['longitudeE7'] = ld['longitudeE7']/float(1e7)\n",
    "ld['timestampMs'] = ld['timestampMs'].map(lambda x: float(x)/1000) #to seconds\n",
    "ld['datetime'] = ld.timestampMs.map(datetime.datetime.fromtimestamp)\n",
    "# Rename fields based on the conversions we just did\n",
    "ld.rename(columns={'latitudeE7':'latitude', 'longitudeE7':'longitude', 'timestampMs':'timestamp'}, inplace=True)\n",
    "ld = ld[ld.accuracy < 1000] #Ignore locations with accuracy estimates over 1000m\n",
    "ld.reset_index(drop=True, inplace=True)"
   ]
  },
  {
   "cell_type": "code",
   "execution_count": 9,
   "metadata": {
    "collapsed": false
   },
   "outputs": [
    {
     "data": {
      "text/html": [
       "<div>\n",
       "<table border=\"1\" class=\"dataframe\">\n",
       "  <thead>\n",
       "    <tr style=\"text-align: right;\">\n",
       "      <th></th>\n",
       "      <th>accuracy</th>\n",
       "      <th>activitys</th>\n",
       "      <th>altitude</th>\n",
       "      <th>heading</th>\n",
       "      <th>latitude</th>\n",
       "      <th>longitude</th>\n",
       "      <th>timestamp</th>\n",
       "      <th>velocity</th>\n",
       "      <th>datetime</th>\n",
       "    </tr>\n",
       "  </thead>\n",
       "  <tbody>\n",
       "    <tr>\n",
       "      <th>0</th>\n",
       "      <td>53</td>\n",
       "      <td>NaN</td>\n",
       "      <td>NaN</td>\n",
       "      <td>NaN</td>\n",
       "      <td>20.439290</td>\n",
       "      <td>-87.287720</td>\n",
       "      <td>1.414820e+09</td>\n",
       "      <td>NaN</td>\n",
       "      <td>2014-10-31 23:35:19.154999</td>\n",
       "    </tr>\n",
       "    <tr>\n",
       "      <th>1</th>\n",
       "      <td>58</td>\n",
       "      <td>NaN</td>\n",
       "      <td>NaN</td>\n",
       "      <td>NaN</td>\n",
       "      <td>20.439363</td>\n",
       "      <td>-87.287705</td>\n",
       "      <td>1.414820e+09</td>\n",
       "      <td>NaN</td>\n",
       "      <td>2014-10-31 23:34:19.184000</td>\n",
       "    </tr>\n",
       "    <tr>\n",
       "      <th>2</th>\n",
       "      <td>67</td>\n",
       "      <td>NaN</td>\n",
       "      <td>NaN</td>\n",
       "      <td>NaN</td>\n",
       "      <td>20.439250</td>\n",
       "      <td>-87.287705</td>\n",
       "      <td>1.414820e+09</td>\n",
       "      <td>NaN</td>\n",
       "      <td>2014-10-31 23:33:14.096999</td>\n",
       "    </tr>\n",
       "    <tr>\n",
       "      <th>3</th>\n",
       "      <td>66</td>\n",
       "      <td>[{'activities': [{'type': 'still', 'confidence...</td>\n",
       "      <td>NaN</td>\n",
       "      <td>NaN</td>\n",
       "      <td>20.439270</td>\n",
       "      <td>-87.287700</td>\n",
       "      <td>1.414820e+09</td>\n",
       "      <td>NaN</td>\n",
       "      <td>2014-10-31 23:32:05.950000</td>\n",
       "    </tr>\n",
       "    <tr>\n",
       "      <th>4</th>\n",
       "      <td>55</td>\n",
       "      <td>NaN</td>\n",
       "      <td>NaN</td>\n",
       "      <td>NaN</td>\n",
       "      <td>20.439357</td>\n",
       "      <td>-87.287708</td>\n",
       "      <td>1.414820e+09</td>\n",
       "      <td>NaN</td>\n",
       "      <td>2014-10-31 23:31:05.903000</td>\n",
       "    </tr>\n",
       "  </tbody>\n",
       "</table>\n",
       "</div>"
      ],
      "text/plain": [
       "   accuracy                                          activitys  altitude  \\\n",
       "0        53                                                NaN       NaN   \n",
       "1        58                                                NaN       NaN   \n",
       "2        67                                                NaN       NaN   \n",
       "3        66  [{'activities': [{'type': 'still', 'confidence...       NaN   \n",
       "4        55                                                NaN       NaN   \n",
       "\n",
       "   heading   latitude  longitude     timestamp  velocity  \\\n",
       "0      NaN  20.439290 -87.287720  1.414820e+09       NaN   \n",
       "1      NaN  20.439363 -87.287705  1.414820e+09       NaN   \n",
       "2      NaN  20.439250 -87.287705  1.414820e+09       NaN   \n",
       "3      NaN  20.439270 -87.287700  1.414820e+09       NaN   \n",
       "4      NaN  20.439357 -87.287708  1.414820e+09       NaN   \n",
       "\n",
       "                    datetime  \n",
       "0 2014-10-31 23:35:19.154999  \n",
       "1 2014-10-31 23:34:19.184000  \n",
       "2 2014-10-31 23:33:14.096999  \n",
       "3 2014-10-31 23:32:05.950000  \n",
       "4 2014-10-31 23:31:05.903000  "
      ]
     },
     "execution_count": 9,
     "metadata": {},
     "output_type": "execute_result"
    }
   ],
   "source": [
    "ld.head()"
   ]
  },
  {
   "cell_type": "markdown",
   "metadata": {},
   "source": [
    "We need to download the shapefile [here](http://www.gadm.org/country)"
   ]
  },
  {
   "cell_type": "code",
   "execution_count": 11,
   "metadata": {
    "collapsed": false,
    "deletable": true,
    "editable": true
   },
   "outputs": [
    {
     "data": {
      "text/plain": [
       "<open Collection '/Users/pedrohserrano/data-visualization/location-history/MEX_adm_shp/MEX_adm2.shp:MEX_adm2', mode 'r' at 0x117885128>"
      ]
     },
     "execution_count": 11,
     "metadata": {},
     "output_type": "execute_result"
    }
   ],
   "source": [
    "shapefilename = '/Users/pedrohserrano//Users/pedrohserrano/geo-files/MEX_adm_shp/MEX_adm2'\n",
    "shp = fiona.open(shapefilename+'.shp')\n",
    "shp"
   ]
  },
  {
   "cell_type": "code",
   "execution_count": 56,
   "metadata": {
    "collapsed": false,
    "deletable": true,
    "editable": true
   },
   "outputs": [
    {
     "data": {
      "text/plain": [
       "(-118.36888885498041,\n",
       " 14.532917022705135,\n",
       " -86.71013641357423,\n",
       " 32.71804046630862)"
      ]
     },
     "execution_count": 56,
     "metadata": {},
     "output_type": "execute_result"
    }
   ],
   "source": [
    "coords = shp.bounds\n",
    "coords ##centre of map\n",
    "##coords = (-98,18,-100,20) DF"
   ]
  },
  {
   "cell_type": "code",
   "execution_count": 57,
   "metadata": {
    "collapsed": true,
    "deletable": true,
    "editable": true
   },
   "outputs": [],
   "source": [
    "shp.close()"
   ]
  },
  {
   "cell_type": "code",
   "execution_count": 58,
   "metadata": {
    "collapsed": false,
    "deletable": true,
    "editable": true
   },
   "outputs": [
    {
     "name": "stdout",
     "output_type": "stream",
     "text": [
      "31.65875244140618 18.185123443603487\n"
     ]
    }
   ],
   "source": [
    "w, h = coords[2] - coords[0], coords[3] - coords[1]\n",
    "extra = 0\n",
    "print(w,h)"
   ]
  },
  {
   "cell_type": "code",
   "execution_count": 59,
   "metadata": {
    "collapsed": false,
    "deletable": true,
    "editable": true
   },
   "outputs": [],
   "source": [
    "m = Basemap(\n",
    "    projection='tmerc', ellps='WGS84',\n",
    "    lon_0=np.mean([coords[0], coords[2]]),\n",
    "    lat_0=np.mean([coords[1], coords[3]]),\n",
    "    llcrnrlon=coords[0] - extra * w,\n",
    "    llcrnrlat=coords[1] - (extra * h), \n",
    "    urcrnrlon=coords[2] + extra * w,\n",
    "    urcrnrlat=coords[3] + (extra * h),\n",
    "    resolution='i',  suppress_ticks=True)"
   ]
  },
  {
   "cell_type": "code",
   "execution_count": 60,
   "metadata": {
    "collapsed": false,
    "deletable": true,
    "editable": true
   },
   "outputs": [
    {
     "data": {
      "text/plain": [
       "mpl_toolkits.basemap.Basemap"
      ]
     },
     "execution_count": 60,
     "metadata": {},
     "output_type": "execute_result"
    }
   ],
   "source": [
    "type(m) #prove if it works"
   ]
  },
  {
   "cell_type": "code",
   "execution_count": 61,
   "metadata": {
    "collapsed": false,
    "deletable": true,
    "editable": true
   },
   "outputs": [
    {
     "name": "stdout",
     "output_type": "stream",
     "text": [
      "(1853, 5, [-118.36888885498041, 14.532917022705135, 0.0, 0.0], [-86.71013641357423, 32.71804046630862, 0.0, 0.0])\n"
     ]
    }
   ],
   "source": [
    "_out = m.readshapefile(shapefilename, name='MEX_adm2', drawbounds=False, color='none', zorder=2)\n",
    "print (_out)"
   ]
  },
  {
   "cell_type": "code",
   "execution_count": 62,
   "metadata": {
    "collapsed": true,
    "deletable": true,
    "editable": true
   },
   "outputs": [],
   "source": [
    "# define map colors\n",
    "land_color = '#fee6ce'\n",
    "water_color = '#9ecae1'\n",
    "coastline_color = '#FFFFFF'\n",
    "border_color = 'None'\n",
    "meridian_color = 'None'\n",
    "marker_fill_color = '#cc3300'\n",
    "marker_edge_color = 'None'"
   ]
  },
  {
   "cell_type": "code",
   "execution_count": 63,
   "metadata": {
    "collapsed": false,
    "deletable": true,
    "editable": true
   },
   "outputs": [
    {
     "data": {
      "image/png": "[encoded data removed]",
      "text/plain": [
       "<matplotlib.figure.Figure at 0x116f84550>"
      ]
     },
     "metadata": {},
     "output_type": "display_data"
    }
   ],
   "source": [
    "m.drawmapboundary(fill_color='#9ecae1')\n",
    "m.fillcontinents(color='#fee6ce',lake_color='#9ecae1')\n",
    "m.drawcoastlines()\n",
    "\n",
    "# project our points from each dataset then concatenate and scatter plot them\n",
    "x, y = m(ld['longitude'].values, ld['latitude'].values)\n",
    "m.scatter(x, y, s=20, color=marker_fill_color, edgecolor=marker_edge_color, alpha=1, zorder=3)\n",
    "\n",
    "# show the map\n",
    "#plt.savefig('images/foursquare_checkins_map.png', dpi=300, bbox_inches='tight', pad_inches=0.2)\n",
    "plt.show()"
   ]
  },
  {
   "cell_type": "markdown",
   "metadata": {
    "collapsed": true,
    "deletable": true,
    "editable": true
   },
   "source": [
    "Well.. we have to improve this"
   ]
  },
  {
   "cell_type": "code",
   "execution_count": null,
   "metadata": {
    "collapsed": true
   },
   "outputs": [],
   "source": []
  }
 ],
 "metadata": {
  "anaconda-cloud": {},
  "kernelspec": {
   "display_name": "Python 3",
   "language": "python",
   "name": "python3"
  },
  "language_info": {
   "codemirror_mode": {
    "name": "ipython",
    "version": 3
   },
   "file_extension": ".py",
   "mimetype": "text/x-python",
   "name": "python",
   "nbconvert_exporter": "python",
   "pygments_lexer": "ipython3",
   "version": "3.4.2"
  }
 },
 "nbformat": 4,
 "nbformat_minor": 1
}
