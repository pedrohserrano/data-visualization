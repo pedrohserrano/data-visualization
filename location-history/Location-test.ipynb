{
 "cells": [
  {
   "cell_type": "code",
   "execution_count": 1,
   "metadata": {
    "collapsed": false,
    "deletable": true,
    "editable": true
   },
   "outputs": [
    {
     "name": "stdout",
     "output_type": "stream",
     "text": [
      "Python 3.4.2\r\n"
     ]
    }
   ],
   "source": [
    "!python --version"
   ]
  },
  {
   "cell_type": "code",
   "execution_count": 2,
   "metadata": {
    "collapsed": false,
    "deletable": true,
    "editable": true
   },
   "outputs": [
    {
     "name": "stdout",
     "output_type": "stream",
     "text": [
      "3.4.2 (default, Mar 11 2017, 20:07:25) \n",
      "[GCC 4.2.1 Compatible Apple LLVM 8.0.0 (clang-800.0.42.1)]\n"
     ]
    }
   ],
   "source": [
    "import sys\n",
    "print(sys.version)"
   ]
  },
  {
   "cell_type": "code",
   "execution_count": 3,
   "metadata": {
    "collapsed": false,
    "deletable": true,
    "editable": true
   },
   "outputs": [
    {
     "data": {
      "text/plain": [
       "['',\n",
       " '/Users/pedrohserrano/.pyenv/versions/3.4.2/lib/python34.zip',\n",
       " '/Users/pedrohserrano/.pyenv/versions/3.4.2/lib/python3.4',\n",
       " '/Users/pedrohserrano/.pyenv/versions/3.4.2/lib/python3.4/plat-darwin',\n",
       " '/Users/pedrohserrano/.pyenv/versions/3.4.2/lib/python3.4/lib-dynload',\n",
       " '/Users/pedrohserrano/.pyenv/versions/3.4.2/lib/python3.4/site-packages',\n",
       " '/Users/pedrohserrano/.pyenv/versions/3.4.2/lib/python3.4/site-packages/IPython/extensions',\n",
       " '/Users/pedrohserrano/.ipython']"
      ]
     },
     "execution_count": 3,
     "metadata": {},
     "output_type": "execute_result"
    }
   ],
   "source": [
    "import sys\n",
    "sys.path"
   ]
  },
  {
   "cell_type": "code",
   "execution_count": 4,
   "metadata": {
    "collapsed": false,
    "deletable": true,
    "editable": true
   },
   "outputs": [
    {
     "data": {
      "text/plain": [
       "'/Users/pedrohserrano/data-visualization/location-history'"
      ]
     },
     "execution_count": 4,
     "metadata": {},
     "output_type": "execute_result"
    }
   ],
   "source": [
    "import os\n",
    "os.getcwd()"
   ]
  },
  {
   "cell_type": "code",
   "execution_count": 5,
   "metadata": {
    "collapsed": false,
    "deletable": true,
    "editable": true
   },
   "outputs": [],
   "source": [
    "import matplotlib.pyplot as plt\n",
    "%matplotlib inline"
   ]
  },
  {
   "cell_type": "code",
   "execution_count": 6,
   "metadata": {
    "collapsed": false,
    "deletable": true,
    "editable": true
   },
   "outputs": [],
   "source": [
    "import numpy as np\n",
    "import pandas as pd"
   ]
  },
  {
   "cell_type": "code",
   "execution_count": 7,
   "metadata": {
    "collapsed": false,
    "deletable": true,
    "editable": true
   },
   "outputs": [],
   "source": [
    "import mpl_toolkits"
   ]
  },
  {
   "cell_type": "code",
   "execution_count": 8,
   "metadata": {
    "collapsed": false,
    "deletable": true,
    "editable": true
   },
   "outputs": [],
   "source": [
    "from mpl_toolkits.basemap import Basemap"
   ]
  },
  {
   "cell_type": "code",
   "execution_count": 9,
   "metadata": {
    "collapsed": false,
    "deletable": true,
    "editable": true
   },
   "outputs": [],
   "source": [
    "from shapely.geometry import Point, Polygon, MultiPoint, MultiPolygon\n",
    "from shapely.prepared import prep"
   ]
  },
  {
   "cell_type": "code",
   "execution_count": 10,
   "metadata": {
    "collapsed": false,
    "deletable": true,
    "editable": true
   },
   "outputs": [],
   "source": [
    "import fiona\n",
    "from descartes import PolygonPatch"
   ]
  },
  {
   "cell_type": "code",
   "execution_count": 11,
   "metadata": {
    "collapsed": false,
    "deletable": true,
    "editable": true
   },
   "outputs": [],
   "source": [
    "from matplotlib.collections import PatchCollection"
   ]
  },
  {
   "cell_type": "code",
   "execution_count": 12,
   "metadata": {
    "collapsed": true,
    "deletable": true,
    "editable": true
   },
   "outputs": [],
   "source": [
    "import json\n",
    "import datetime"
   ]
  },
  {
   "cell_type": "code",
   "execution_count": 16,
   "metadata": {
    "collapsed": false,
    "deletable": true,
    "editable": true
   },
   "outputs": [],
   "source": [
    "with open('/Users/pedrohserrano/google-takeout/Ubicaciones/Historialdeubicaciones.json', 'r') as fh:\n",
    "    raw = json.loads(fh.read())"
   ]
  },
  {
   "cell_type": "code",
   "execution_count": null,
   "metadata": {
    "collapsed": true
   },
   "outputs": [],
   "source": [
    "ld = pd.DataFrame(raw['locations'])\n",
    "del raw #free up some memory\n",
    "# convert to typical units\n",
    "ld['latitudeE7'] = ld['latitudeE7']/float(1e7) \n",
    "ld['longitudeE7'] = ld['longitudeE7']/float(1e7)\n",
    "ld['timestampMs'] = ld['timestampMs'].map(lambda x: float(x)/1000) #to seconds\n",
    "ld['datetime'] = ld.timestampMs.map(datetime.datetime.fromtimestamp)\n",
    "# Rename fields based on the conversions we just did\n",
    "ld.rename(columns={'latitudeE7':'latitude', 'longitudeE7':'longitude', 'timestampMs':'timestamp'}, inplace=True)\n",
    "ld = ld[ld.accuracy < 1000] #Ignore locations with accuracy estimates over 1000m\n",
    "ld.reset_index(drop=True, inplace=True)"
   ]
  },
  {
   "cell_type": "code",
   "execution_count": 23,
   "metadata": {
    "collapsed": false,
    "deletable": true,
    "editable": true
   },
   "outputs": [
    {
     "name": "stdout",
     "output_type": "stream",
     "text": [
      "/Users/pedrohserrano/data-visualization/location-history\r\n"
     ]
    }
   ],
   "source": [
    "!pwd"
   ]
  },
  {
   "cell_type": "code",
   "execution_count": 24,
   "metadata": {
    "collapsed": false
   },
   "outputs": [
    {
     "name": "stdout",
     "output_type": "stream",
     "text": [
      "total 300288\r\n",
      "drwxr-xr-x  26 pedrohserrano  staff       884 Mar 15 21:45 \u001b[1m\u001b[36m.\u001b[m\u001b[m\r\n",
      "drwxr-xr-x  15 pedrohserrano  staff       510 Mar 11 02:12 \u001b[1m\u001b[36m..\u001b[m\u001b[m\r\n",
      "-rw-r--r--@  1 pedrohserrano  staff      6148 Mar 15 21:39 .DS_Store\r\n",
      "-rw-r--r--   1 pedrohserrano  staff        12 Mar 11 02:07 .gitignore\r\n",
      "drwxr-xr-x   3 pedrohserrano  staff       102 Mar 15 21:29 \u001b[1m\u001b[36m.ipynb_checkpoints\u001b[m\u001b[m\r\n",
      "drwxr-xr-x@  9 pedrohserrano  staff       306 Jul 10  2013 \u001b[1m\u001b[36mColonias\u001b[m\u001b[m\r\n",
      "-rw-r--r--@  1 pedrohserrano  staff  24762955 Mar 11 22:50 Colonias.zip\r\n",
      "-rwxr-xr-x@  1 pedrohserrano  staff  19843556 Feb 18 17:21 \u001b[31mHistorialdeubicaciones.json\u001b[m\u001b[m\r\n",
      "-rw-r--r--   1 pedrohserrano  staff    399183 Mar 15 21:45 Location-test.ipynb\r\n",
      "-rw-r--r--   1 pedrohserrano  staff     48331 Mar 11 20:55 Location.ipynb\r\n",
      "drwx------@ 21 pedrohserrano  staff       714 Mar 15 21:39 \u001b[1m\u001b[36mMEX_adm_shp\u001b[m\u001b[m\r\n",
      "-rw-r--r--@  1 pedrohserrano  staff   9524435 Mar 15 21:39 MEX_adm_shp.zip\r\n",
      "drwxr-xr-x@  8 pedrohserrano  staff       272 Jul 10  2013 \u001b[1m\u001b[36mMunicipios\u001b[m\u001b[m\r\n",
      "-rwxr-xr-x@  1 pedrohserrano  staff  52584380 Jul 10  2013 \u001b[31mMunicipios.shp\u001b[m\u001b[m\r\n",
      "-rw-r--r--@  1 pedrohserrano  staff  33629841 Mar 11 22:49 Municipios.zip\r\n",
      "-rwxr-xr-x@  1 pedrohserrano  staff  10981652 Jul 11  2016 \u001b[31mareas_geoestadisticas_estatales.shp\u001b[m\u001b[m\r\n",
      "-rw-r--r--   1 pedrohserrano  staff    602396 Mar 11 02:07 foursquare-location-history.ipynb\r\n",
      "-rw-r--r--   1 pedrohserrano  staff    166876 Mar 11 02:07 google-location-history-cluster.ipynb\r\n",
      "-rw-r--r--   1 pedrohserrano  staff     27280 Mar 11 02:07 google-location-history-reverse-geocode.ipynb\r\n",
      "-rw-r--r--   1 pedrohserrano  staff    324761 Mar 11 02:07 google-location-history-simple.ipynb\r\n",
      "drwxr-xr-x  14 pedrohserrano  staff       476 Mar 11 02:07 \u001b[1m\u001b[36mimages\u001b[m\u001b[m\r\n",
      "drwxr-xr-x   4 pedrohserrano  staff       136 Mar 11 02:07 \u001b[1m\u001b[36mleaflet\u001b[m\u001b[m\r\n",
      "-rw-r--r--@  1 pedrohserrano  staff    552475 Mar 11 21:36 maps-london.json\r\n",
      "-rw-r--r--   1 pedrohserrano  staff     22398 Mar 11 02:07 previous-travels-history-geocode.ipynb\r\n",
      "-rw-r--r--   1 pedrohserrano  staff      1923 Mar 11 02:07 readme.md\r\n",
      "-rw-r--r--   1 pedrohserrano  staff    229692 Mar 11 02:07 visualize-location-history.ipynb\r\n"
     ]
    }
   ],
   "source": [
    "!ls -la"
   ]
  },
  {
   "cell_type": "code",
   "execution_count": 27,
   "metadata": {
    "collapsed": false,
    "deletable": true,
    "editable": true
   },
   "outputs": [],
   "source": [
    "shapefilename = '/Users/pedrohserrano/data-visualization/location-history/MEX_adm_shp/MEX_adm2'"
   ]
  },
  {
   "cell_type": "code",
   "execution_count": 122,
   "metadata": {
    "collapsed": false,
    "deletable": true,
    "editable": true
   },
   "outputs": [],
   "source": [
    "shp = fiona.open(shapefilename+'.shp')"
   ]
  },
  {
   "cell_type": "code",
   "execution_count": 123,
   "metadata": {
    "collapsed": false,
    "deletable": true,
    "editable": true
   },
   "outputs": [
    {
     "data": {
      "text/plain": [
       "<open Collection '/Users/pedrohserrano/data-visualization/location-history/MEX_adm_shp/MEX_adm2.shp:MEX_adm2', mode 'r' at 0x10c97af98>"
      ]
     },
     "execution_count": 123,
     "metadata": {},
     "output_type": "execute_result"
    }
   ],
   "source": [
    "shp"
   ]
  },
  {
   "cell_type": "code",
   "execution_count": 124,
   "metadata": {
    "collapsed": true,
    "deletable": true,
    "editable": true
   },
   "outputs": [],
   "source": [
    "coords = shp.bounds"
   ]
  },
  {
   "cell_type": "code",
   "execution_count": 125,
   "metadata": {
    "collapsed": false,
    "deletable": true,
    "editable": true
   },
   "outputs": [
    {
     "data": {
      "text/plain": [
       "(-118.36888885498041,\n",
       " 14.532917022705135,\n",
       " -86.71013641357423,\n",
       " 32.71804046630862)"
      ]
     },
     "execution_count": 125,
     "metadata": {},
     "output_type": "execute_result"
    }
   ],
   "source": [
    "coords"
   ]
  },
  {
   "cell_type": "code",
   "execution_count": 126,
   "metadata": {
    "collapsed": true,
    "deletable": true,
    "editable": true
   },
   "outputs": [],
   "source": [
    "shp.close()"
   ]
  },
  {
   "cell_type": "code",
   "execution_count": 127,
   "metadata": {
    "collapsed": false,
    "deletable": true,
    "editable": true
   },
   "outputs": [],
   "source": [
    "w, h = coords[2] - coords[0], coords[3] - coords[1]\n",
    "extra = 0"
   ]
  },
  {
   "cell_type": "code",
   "execution_count": 128,
   "metadata": {
    "collapsed": false
   },
   "outputs": [
    {
     "name": "stdout",
     "output_type": "stream",
     "text": [
      "31.65875244140618 18.185123443603487\n"
     ]
    }
   ],
   "source": [
    "print(w,h)"
   ]
  },
  {
   "cell_type": "code",
   "execution_count": 129,
   "metadata": {
    "collapsed": false,
    "deletable": true,
    "editable": true
   },
   "outputs": [],
   "source": [
    "m = Basemap(\n",
    "    projection='tmerc', ellps='WGS84',\n",
    "    lon_0=np.mean([coords[0], coords[2]]),\n",
    "    lat_0=np.mean([coords[1], coords[3]]),\n",
    "    llcrnrlon=coords[0] - extra * w,\n",
    "    llcrnrlat=coords[1] - (extra * h), \n",
    "    urcrnrlon=coords[2] + extra * w,\n",
    "    urcrnrlat=coords[3] + (extra * h),\n",
    "    resolution='i',  suppress_ticks=True)"
   ]
  },
  {
   "cell_type": "code",
   "execution_count": 130,
   "metadata": {
    "collapsed": false
   },
   "outputs": [
    {
     "name": "stderr",
     "output_type": "stream",
     "text": [
      "/Users/pedrohserrano/.pyenv/versions/3.4.2/lib/python3.4/site-packages/mpl_toolkits/basemap/__init__.py:1767: MatplotlibDeprecationWarning: The get_axis_bgcolor function was deprecated in version 2.0. Use get_facecolor instead.\n",
      "  axisbgc = ax.get_axis_bgcolor()\n"
     ]
    },
    {
     "data": {
      "text/plain": [
       "<matplotlib.collections.LineCollection at 0x10b9cb208>"
      ]
     },
     "execution_count": 130,
     "metadata": {},
     "output_type": "execute_result"
    },
    {
     "data": {
      "image/png": "[encoded data removed]",
      "text/plain": [
       "<matplotlib.figure.Figure at 0x10b8a3fd0>"
      ]
     },
     "metadata": {},
     "output_type": "display_data"
    }
   ],
   "source": [
    "m.drawmapboundary(fill_color='blue')\n",
    "m.fillcontinents(color='#ddaa66',lake_color='aqua')\n",
    "m.drawcoastlines()"
   ]
  },
  {
   "cell_type": "code",
   "execution_count": 131,
   "metadata": {
    "collapsed": false,
    "deletable": true,
    "editable": true
   },
   "outputs": [
    {
     "data": {
      "text/plain": [
       "mpl_toolkits.basemap.Basemap"
      ]
     },
     "execution_count": 131,
     "metadata": {},
     "output_type": "execute_result"
    }
   ],
   "source": [
    "type(m)"
   ]
  },
  {
   "cell_type": "code",
   "execution_count": 132,
   "metadata": {
    "collapsed": false,
    "deletable": true,
    "editable": true
   },
   "outputs": [],
   "source": [
    "_out = m.readshapefile(shapefilename, name='MEX_adm2', drawbounds=False, color='none', zorder=2)"
   ]
  },
  {
   "cell_type": "code",
   "execution_count": 133,
   "metadata": {
    "collapsed": false
   },
   "outputs": [
    {
     "name": "stdout",
     "output_type": "stream",
     "text": [
      "(1853, 5, [-118.36888885498041, 14.532917022705135, 0.0, 0.0], [-86.71013641357423, 32.71804046630862, 0.0, 0.0])\n"
     ]
    }
   ],
   "source": [
    "print (_out)"
   ]
  },
  {
   "cell_type": "code",
   "execution_count": 134,
   "metadata": {
    "collapsed": true
   },
   "outputs": [],
   "source": [
    "# define map colors\n",
    "land_color = '#f5f5f3'\n",
    "water_color = '#cdd2d4'\n",
    "coastline_color = '#999999'\n",
    "border_color = '#999999'\n",
    "meridian_color = '#aaaaaa'\n",
    "marker_fill_color = '#cc3300'\n",
    "marker_edge_color = 'None'"
   ]
  },
  {
   "cell_type": "code",
   "execution_count": 135,
   "metadata": {
    "collapsed": false
   },
   "outputs": [
    {
     "name": "stderr",
     "output_type": "stream",
     "text": [
      "/Users/pedrohserrano/.pyenv/versions/3.4.2/lib/python3.4/site-packages/mpl_toolkits/basemap/__init__.py:1767: MatplotlibDeprecationWarning: The get_axis_bgcolor function was deprecated in version 2.0. Use get_facecolor instead.\n",
      "  axisbgc = ax.get_axis_bgcolor()\n",
      "/Users/pedrohserrano/.pyenv/versions/3.4.2/lib/python3.4/site-packages/mpl_toolkits/basemap/__init__.py:3222: MatplotlibDeprecationWarning: The ishold function was deprecated in version 2.0.\n",
      "  b = ax.ishold()\n",
      "/Users/pedrohserrano/.pyenv/versions/3.4.2/lib/python3.4/site-packages/mpl_toolkits/basemap/__init__.py:3231: MatplotlibDeprecationWarning: axes.hold is deprecated.\n",
      "    See the API Changes document (http://matplotlib.org/api/api_changes.html)\n",
      "    for more details.\n",
      "  ax.hold(b)\n"
     ]
    },
    {
     "data": {
      "image/png": "[encoded data removed]",
      "text/plain": [
       "<matplotlib.figure.Figure at 0x114504eb8>"
      ]
     },
     "metadata": {},
     "output_type": "display_data"
    }
   ],
   "source": [
    "m.drawmapboundary(fill_color='blue')\n",
    "m.fillcontinents(color='#ddaa66',lake_color='aqua')\n",
    "m.drawcoastlines()\n",
    "\n",
    "# project our points from each dataset then concatenate and scatter plot them\n",
    "x, y = m(ld['longitude'].values, ld['latitude'].values)\n",
    "m.scatter(x, y, s=10, color=marker_fill_color, edgecolor=marker_edge_color, alpha=1, zorder=3)\n",
    "\n",
    "# show the map\n",
    "#plt.savefig('images/foursquare_checkins_map.png', dpi=300, bbox_inches='tight', pad_inches=0.2)\n",
    "plt.show()"
   ]
  },
  {
   "cell_type": "code",
   "execution_count": null,
   "metadata": {
    "collapsed": true
   },
   "outputs": [],
   "source": []
  },
  {
   "cell_type": "code",
   "execution_count": 57,
   "metadata": {
    "collapsed": false,
    "deletable": true,
    "editable": true
   },
   "outputs": [
    {
     "ename": "AttributeError",
     "evalue": "'Basemap' object has no attribute 'seattle'",
     "output_type": "error",
     "traceback": [
      "\u001b[0;31m---------------------------------------------------------------------------\u001b[0m",
      "\u001b[0;31mAttributeError\u001b[0m                            Traceback (most recent call last)",
      "\u001b[0;32m<ipython-input-57-286e2f64a086>\u001b[0m in \u001b[0;36m<module>\u001b[0;34m()\u001b[0m\n\u001b[1;32m      1\u001b[0m \u001b[0;31m# set up a map dataframe\u001b[0m\u001b[0;34m\u001b[0m\u001b[0;34m\u001b[0m\u001b[0m\n\u001b[1;32m      2\u001b[0m df_map = pd.DataFrame({\n\u001b[0;32m----> 3\u001b[0;31m     \u001b[0;34m'poly'\u001b[0m\u001b[0;34m:\u001b[0m \u001b[0;34m[\u001b[0m\u001b[0mPolygon\u001b[0m\u001b[0;34m(\u001b[0m\u001b[0mhood_points\u001b[0m\u001b[0;34m)\u001b[0m \u001b[0;32mfor\u001b[0m \u001b[0mhood_points\u001b[0m \u001b[0;32min\u001b[0m \u001b[0mm\u001b[0m\u001b[0;34m.\u001b[0m\u001b[0mseattle\u001b[0m\u001b[0;34m]\u001b[0m\u001b[0;34m,\u001b[0m\u001b[0;34m\u001b[0m\u001b[0m\n\u001b[0m\u001b[1;32m      4\u001b[0m     \u001b[0;34m'name'\u001b[0m\u001b[0;34m:\u001b[0m \u001b[0;34m[\u001b[0m\u001b[0mhood\u001b[0m\u001b[0;34m[\u001b[0m\u001b[0;34m'S_HOOD'\u001b[0m\u001b[0;34m]\u001b[0m \u001b[0;32mfor\u001b[0m \u001b[0mhood\u001b[0m \u001b[0;32min\u001b[0m \u001b[0mm\u001b[0m\u001b[0;34m.\u001b[0m\u001b[0mseattle_info\u001b[0m\u001b[0;34m]\u001b[0m\u001b[0;34m\u001b[0m\u001b[0m\n\u001b[1;32m      5\u001b[0m })\n",
      "\u001b[0;31mAttributeError\u001b[0m: 'Basemap' object has no attribute 'seattle'"
     ]
    }
   ],
   "source": [
    "# set up a map dataframe\n",
    "df_map = pd.DataFrame({\n",
    "    'poly': [Polygon(hood_points) for hood_points in m.seattle],\n",
    "    'name': [hood['S_HOOD'] for hood in m.seattle_info]\n",
    "})\n",
    "# Convert our latitude and longitude into Basemap cartesian map coordinates\n",
    "mapped_points = [Point(m(mapped_x, mapped_y)) for mapped_x, mapped_y in zip(ld['longitude'], \n",
    "            ld['latitude'])]\n",
    "all_points = MultiPoint(mapped_points)\n",
    "# Use prep to optimize polygons for faster computation\n",
    "hood_polygons = prep(MultiPolygon(list(df_map['poly'].values)))\n",
    "# Filter out the points that do not fall within the map we're making\n",
    "city_points = filter(hood_polygons.contains, all_points)"
   ]
  },
  {
   "cell_type": "code",
   "execution_count": null,
   "metadata": {
    "collapsed": true,
    "deletable": true,
    "editable": true
   },
   "outputs": [],
   "source": []
  }
 ],
 "metadata": {
  "anaconda-cloud": {},
  "kernelspec": {
   "display_name": "Python 3",
   "language": "python",
   "name": "python3"
  },
  "language_info": {
   "codemirror_mode": {
    "name": "ipython",
    "version": 3
   },
   "file_extension": ".py",
   "mimetype": "text/x-python",
   "name": "python",
   "nbconvert_exporter": "python",
   "pygments_lexer": "ipython3",
   "version": "3.4.2"
  }
 },
 "nbformat": 4,
 "nbformat_minor": 1
}
